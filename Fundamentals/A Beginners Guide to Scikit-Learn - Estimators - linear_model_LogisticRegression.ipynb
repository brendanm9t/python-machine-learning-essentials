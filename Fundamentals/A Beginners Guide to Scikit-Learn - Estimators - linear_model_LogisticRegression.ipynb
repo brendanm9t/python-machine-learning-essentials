{
 "cells": [
  {
   "cell_type": "markdown",
   "id": "7099e6fb",
   "metadata": {},
   "source": [
    "<h2> Estimators </h2>\n",
    "\n",
    "The Scitkit-learn library provides a very large variety of pre-built algorithms to perform both supervised and unsupervised machine learning.\n",
    "\n",
    "The estimator you choose for your project will depend on the data set you have and the problem that you are trying to solve. What makes Scikit-learn so straight forward to use is that regardless of the model or algorithm you are using, the code structure for model training and prediction is the same.\n",
    "<img src='ml_map.png' width=\"600\" height=\"900\">\n",
    "Let’s say you are working on a regression problem and want to train a linear regression algorithm and use the resulting model to make predictions."
   ]
  },
  {
   "cell_type": "markdown",
   "id": "aa23c067",
   "metadata": {},
   "source": [
    "The code examples throughout this notebook are run on the classic wine data set which can be imported directly from the Scikit-learn API."
   ]
  },
  {
   "cell_type": "code",
   "execution_count": 31,
   "id": "71775ab9",
   "metadata": {},
   "outputs": [],
   "source": [
    "from sklearn.datasets import load_wine\n",
    "\n",
    "#X,y = load_wine(return_X_y=True)\n",
    "# Data\n",
    "# Raw Data\n",
    "wine_data = load_wine()\n",
    "\n",
    "# Unscaled Data\n",
    "y = wine_data.target\n",
    "X = wine_data.data"
   ]
  },
  {
   "cell_type": "markdown",
   "id": "4cd8aa39",
   "metadata": {},
   "source": [
    "<h3> Steps</h3>\n",
    "\n",
    "<ol>\n",
    "<li>Call the <b>estimator</b> & save it as an object</li>\n",
    "<li>Split data into train & test datae</li>\n",
    "<li>Perform data pre-processing</li>\n",
    "<li>Perform estimator fit on features & target data and save this model as an object</li>\n",
    "<li>Perform prediction on unseen data</li>\n",
    "<li>Evaluate prediction model</li>\n",
    "<li>Model optimisation - where possible</li>\n",
    "</ol> "
   ]
  },
  {
   "cell_type": "code",
   "execution_count": 32,
   "id": "b08a165e",
   "metadata": {},
   "outputs": [],
   "source": [
    "from sklearn.linear_model import LogisticRegression\n",
    "\n",
    "lr = LogisticRegression()"
   ]
  },
  {
   "cell_type": "code",
   "execution_count": 37,
   "id": "edf43ba5",
   "metadata": {},
   "outputs": [],
   "source": [
    "from sklearn.model_selection import train_test_split\n",
    "\n",
    "X_train, X_test, y_train, y_test = train_test_split(X, y, random_state=0)"
   ]
  },
  {
   "cell_type": "code",
   "execution_count": 40,
   "id": "11790e91",
   "metadata": {},
   "outputs": [],
   "source": [
    "from sklearn.preprocessing import StandardScaler\n",
    "from sklearn.impute import SimpleImputer\n",
    "\n",
    "imputer = SimpleImputer(strategy='mean')\n",
    "X_train_clean = imputer.fit_transform(X_train)\n",
    "\n",
    "# Z-Scored Data\n",
    "sc_z =StandardScaler(with_mean=True, with_std=True)\n",
    "\n",
    "#y_z = (y_train - y_train.mean())/y_train.std()\n",
    "X_z = sc_z.fit_transform(X_train_clean)"
   ]
  },
  {
   "cell_type": "code",
   "execution_count": 59,
   "id": "8dd20e2a",
   "metadata": {},
   "outputs": [],
   "source": [
    "model = lr.fit(X_z, y_train)"
   ]
  },
  {
   "cell_type": "code",
   "execution_count": 60,
   "id": "20cfe113",
   "metadata": {},
   "outputs": [],
   "source": [
    "predictions = model.predict(sc_z.fit_transform(X_test))"
   ]
  },
  {
   "cell_type": "code",
   "execution_count": 61,
   "id": "8ae0db94",
   "metadata": {},
   "outputs": [
    {
     "name": "stdout",
     "output_type": "stream",
     "text": [
      "              precision    recall  f1-score   support\n",
      "\n",
      "           0       1.00      1.00      1.00        16\n",
      "           1       0.95      1.00      0.98        20\n",
      "           2       1.00      0.89      0.94         9\n",
      "\n",
      "    accuracy                           0.98        45\n",
      "   macro avg       0.98      0.96      0.97        45\n",
      "weighted avg       0.98      0.98      0.98        45\n",
      "\n"
     ]
    }
   ],
   "source": [
    "from sklearn.metrics import classification_report\n",
    "\n",
    "print(classification_report(predictions, y_test))"
   ]
  },
  {
   "cell_type": "code",
   "execution_count": 68,
   "id": "6ff36e42",
   "metadata": {},
   "outputs": [
    {
     "name": "stdout",
     "output_type": "stream",
     "text": [
      "{'max_iter': 75, 'multi_class': 'ovr', 'solver': 'newton-cg'}\n",
      "0.9626780626780626\n"
     ]
    }
   ],
   "source": [
    "from sklearn.model_selection import GridSearchCV\n",
    "\n",
    "param_grid = { \n",
    "    'solver': ['newton-cg', 'lbfgs', 'sag'],\n",
    "    'max_iter': [75, 100, 125],\n",
    "    'multi_class' : ['auto', 'ovr', 'multinomial'],\n",
    "    }\n",
    "\n",
    "CV = GridSearchCV(lr, param_grid, n_jobs= 1)\n",
    "                  \n",
    "CV.fit(X_z, y_train)  \n",
    "print(CV.best_params_)    \n",
    "print(CV.best_score_)"
   ]
  },
  {
   "cell_type": "code",
   "execution_count": 53,
   "id": "27b3dd74",
   "metadata": {},
   "outputs": [
    {
     "name": "stdout",
     "output_type": "stream",
     "text": [
      "{'criterion': 'gini', 'max_depth': 4, 'max_features': 'auto', 'n_estimators': 20}\n",
      "0.9851851851851852\n"
     ]
    }
   ],
   "source": [
    "from sklearn.ensemble import RandomForestClassifier\n",
    "\n",
    "rf = RandomForestClassifier()\n",
    "rf_model = rf.fit(X_z, y_train)\n",
    "rf_predictions = rf_model.predict(sc_z.fit_transform(X_test))\n",
    "\n",
    "param_grid = { \n",
    "    'n_estimators': [20, 50],\n",
    "    'max_features': ['auto', 'sqrt', 'log2'],\n",
    "    'max_depth' : [4,5,6],\n",
    "    'criterion' :['gini', 'entropy']\n",
    "}\n",
    "\n",
    "CV = GridSearchCV(rf, param_grid, n_jobs= 1)\n",
    "                  \n",
    "CV.fit(X_train_clean, y_train)  \n",
    "print(CV.best_params_)    \n",
    "print(CV.best_score_)"
   ]
  },
  {
   "cell_type": "markdown",
   "id": "a49c3ea0",
   "metadata": {},
   "source": [
    "<h3> Pipelines </h3>"
   ]
  },
  {
   "cell_type": "code",
   "execution_count": 72,
   "id": "c53a441d",
   "metadata": {},
   "outputs": [
    {
     "data": {
      "text/plain": [
       "0.9777777777777777"
      ]
     },
     "execution_count": 72,
     "metadata": {},
     "output_type": "execute_result"
    }
   ],
   "source": [
    "from sklearn.pipeline import Pipeline\n",
    "pipe = Pipeline([('imputer', SimpleImputer()), ('rf', RandomForestClassifier(criterion='gini', max_depth=4, max_features= 'auto', n_estimators= 20))])\n",
    "pipeline_model = pipe.fit(X_train, y_train)\n",
    "pipeline_model.score(X_test, y_test)"
   ]
  },
  {
   "cell_type": "markdown",
   "id": "7203c219",
   "metadata": {},
   "source": [
    "#### References:\n",
    "__<a href=\"https://towardsdatascience.com/a-beginners-guide-to-scikit-learn-14b7e51d71a4\">Link to Reference [1]</a>__"
   ]
  }
 ],
 "metadata": {
  "kernelspec": {
   "display_name": "Python 3 (ipykernel)",
   "language": "python",
   "name": "python3"
  },
  "language_info": {
   "codemirror_mode": {
    "name": "ipython",
    "version": 3
   },
   "file_extension": ".py",
   "mimetype": "text/x-python",
   "name": "python",
   "nbconvert_exporter": "python",
   "pygments_lexer": "ipython3",
   "version": "3.8.11"
  }
 },
 "nbformat": 4,
 "nbformat_minor": 5
}
