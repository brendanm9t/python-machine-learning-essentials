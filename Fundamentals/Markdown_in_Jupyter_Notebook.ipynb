{
 "cells": [
  {
   "cell_type": "markdown",
   "metadata": {},
   "source": [
    "<h1><center>Elementary introduction to Jupyter notebook Markdown</center></h1>"
   ]
  },
  {
   "cell_type": "markdown",
   "metadata": {},
   "source": [
    "### Headings\n",
    "\n",
    "The Headings starts with the Markdown symbol '#' followed by a space.\n",
    "\n",
    "<p># (Header 1, title)</p>\n",
    "<p>## (Header 2, major headings)</p>\n",
    "<p>### (Header 3, subheadings)</p>\n",
    "<p>#### (Header 4)</p>\n",
    "<p>##### (Header 5)</p>\n",
    "<p>###### (Header 6)</p>\n",
    "\n",
    "Alternatively, the headings can start with Markup Tags, i.e., from h1 to h6. \\<h1-h6\\>\n",
    "\n",
    "\\<h1>Header 1,title\\<h1>\n",
    "<br>\n",
    "\\<h2>Header 2,major headings\\<h2>\n",
    "<br>\n",
    "\\<h3>Header 3,subheadings\\<h3>\n",
    "<br>\n",
    "\\<h4>Header 4\\<h4>\n",
    "<br>\n",
    "\\<h5>Header 5\\<h5>\n",
    "<br>\n",
    "\\<h6>Header 6\\<h6>"
   ]
  },
  {
   "cell_type": "markdown",
   "metadata": {},
   "source": [
    "### Blockquotes\n",
    "\n",
    "Blockquotes can hold indented text. \n",
    "They can be obtained by using Markdown symbol '>' or with \\<blockquote>text\\</blockquote>\n",
    ">Like this\n",
    "<blockquote>Or something like this</blockquote>"
   ]
  },
  {
   "cell_type": "markdown",
   "metadata": {},
   "source": [
    "### Code section\n",
    "\n",
    "Different programming languages and can be rendered inline with Markdown symbol '\\`' as \\`\\`\\` Code goes here \\`\\`\\` or with Markup tag \\<code>Code goes here\\<code>. Alternatively code block can be rendered as well:\n",
    "\n",
    "<code>Python\n",
    "str = \"This is a block level code\"\n",
    "print(str)\n",
    "</code>\n",
    "\n",
    "```Python\n",
    "str = \"This is a block level code\"\n",
    "print(str)\n",
    "```\n",
    "\n",
    "```Code goes here```"
   ]
  },
  {
   "cell_type": "markdown",
   "metadata": {},
   "source": [
    "### Horizontal Line\n",
    "\n",
    "Horizontal lines can begot by using Markdown symbols '---' or Markup tag \\<hr>\n",
    "\n",
    "___\n",
    "In between-er\n",
    "<hr>"
   ]
  },
  {
   "cell_type": "markdown",
   "metadata": {},
   "source": [
    "### Lists\n",
    "#### Ordered List\n",
    "A numbered list created by Markup tag start \\<ol> and end with \\</ol> with list items begot by \\<li> and \\</li>.\n",
    "<ol>\n",
    "<li>Three</li>\n",
    "<li>One</li>\n",
    "<li>Two</li>\n",
    "</ol>\n",
    "\n",
    "#### Unordered List\n",
    "A list created by Markup tag start \\<ul> and end with \\</ul> with list items begot by \\<li> and \\</li>.\n",
    "<ul>\n",
    "<li>One</li>\n",
    "<li>Two</li>\n",
    "<li>Three</li>\n",
    "</ul>"
   ]
  },
  {
   "cell_type": "markdown",
   "metadata": {},
   "source": [
    "### Bold and Italic Text\n",
    "\n",
    "**Bold** text can be created using Markdown symbols '\\*\\*' or '\\_\\_' or Markup tag \\<b>Bold\\</b>\n",
    "<br>\n",
    "\\<b>This is bold text \\</b>\n",
    "<br>\n",
    "<b>This is bold text </b>\n",
    "<br>\n",
    "\\*\\*This is bold text\\*\\*\n",
    "<br>\n",
    "**This is bold text**\n",
    "<br>\n",
    "\\_\\_This is bold text\\_\\_\n",
    "<br>\n",
    "__This is bold text__\n",
    "<br>\n",
    "<b><i>Italic</i></b> text can be created using Markdown symbols '\\*' or '\\_' or Markup tag \\<i>Italic\\</i>\n",
    "<br>\n",
    "\\<b>This is italic text \\</b>\n",
    "<br>\n",
    "<i>This is italic text </i>\n",
    "<br>\n",
    "\\*This is italic text\\*\n",
    "<br>\n",
    "*This is italic text*\n",
    "<br>\n",
    "\\_This is italic text\\_\n",
    "<br>\n",
    "_This is italic text_"
   ]
  },
  {
   "cell_type": "markdown",
   "metadata": {},
   "source": [
    "#### References:\n",
    "__<a href=\"https://www.datacamp.com/community/tutorials/markdown-in-jupyter-notebook\">Link to Reference</a>__"
   ]
  }
 ],
 "metadata": {
  "kernelspec": {
   "display_name": "Python 3",
   "language": "python",
   "name": "python3"
  },
  "language_info": {
   "codemirror_mode": {
    "name": "ipython",
    "version": 3
   },
   "file_extension": ".py",
   "mimetype": "text/x-python",
   "name": "python",
   "nbconvert_exporter": "python",
   "pygments_lexer": "ipython3",
   "version": "3.7.6"
  }
 },
 "nbformat": 4,
 "nbformat_minor": 4
}
