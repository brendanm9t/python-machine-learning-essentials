{
 "cells": [
  {
   "cell_type": "markdown",
   "metadata": {},
   "source": [
    "<h1><center> Writing math equations in Jupyter Markdowns</center></h1>"
   ]
  },
  {
   "cell_type": "markdown",
   "metadata": {},
   "source": [
    "***\n",
    "$\\mathbf{\\text{Gradient Tree Boosting Algorithm}}$<br>\n",
    "***\n",
    "1.&emsp;Initialize model with a constant value $$f_{0}(x) = \\textrm{arg min}_{\\gamma} \\sum \\limits _{i=1} ^{N} L(y_{i}, \\gamma)$$\n",
    "2.&emsp;For m = 1 to M:<br>\n",
    "&emsp;&emsp;(a)&emsp;For $i = 1,2,...,N$ compute<br>\n",
    "    $$r_{im} = - \\displaystyle \\Bigg[\\frac{\\partial L(y_{i}, f(x_{i}))}{\\partial f(x_{i})}\\Bigg]_{f=f_{m−1}}$$\n",
    "&emsp;&emsp;(b)&emsp;Fit a regression tree to the targets $r_{im}$ giving terminal regions<br>\n",
    "&emsp;&emsp;&emsp;&emsp;$R_{jm}, j = 1, 2, . . . , J_{m}.$<br><br>\n",
    "&emsp;&emsp;(c)&emsp;For $j = 1, 2, . . . , J_{m}$ compute<br>\n",
    "$$\\gamma_{jm} = \\underset{\\gamma}{\\textrm{arg min}} \\sum \\limits _{x_{i} \\in R_{jm}} L(y_{i}, f_{m−1}(x_{i}) + \\gamma)$$\n",
    "<br>\n",
    "&emsp;&emsp;(d)&emsp;Update $f_{m}(x) = f_{m−1}(x) + \\sum _{j=1} ^{J_{m}} \\gamma_{jm} I(x \\in R_{jm})$<br><br>\n",
    "3. Output $\\hat{f}(x) = f_{M}(x)$\n",
    "***"
   ]
  },
  {
   "cell_type": "markdown",
   "metadata": {},
   "source": [
    "#### Inline mode\n",
    "Inline maths $c(a,b,\\theta)$, to return $\\sqrt{a^2+b^2-2ab\\cos(\\theta)}$"
   ]
  },
  {
   "cell_type": "markdown",
   "metadata": {},
   "source": [
    "#### Display mode\n",
    "$$\\Large \\Sigma = \\begin{bmatrix} \\sigma_{x} & 1 \\\\ 1 & \\sigma^{2}_{y} \\end{bmatrix}$$\n",
    "<br>\n",
    "$$\\sqrt{a^2+b^2-2ab\\cos(\\theta)}$$\n",
    "<br>\n",
    "$$\\hat{Y} = \\hat{\\beta}_{0} + \\sum \\limits _{j=1} ^{p} X_{j}\\hat{\\beta}_{j}$$"
   ]
  },
  {
   "cell_type": "markdown",
   "metadata": {},
   "source": [
    "#### Often Used Symbols\n",
    "##### Greek Letters\n",
    "<table style=\"width:30%\">\n",
    "<tr> <th>Symbol</th><th>L<span style=\"text-transform: uppercase; font-size: 70%; margin-left: -0.36em; vertical-align: 0.3em; margin-right: -0.15em;\">a</span>T<span style=\"text-transform: uppercase; margin-left: -0.1667em; vertical-align: -0.5ex; margin-right: -0.125em;\">e</span>X</th><th>Symbol</th><th>L<span style=\"text-transform: uppercase; font-size: 70%; margin-left: -0.36em; vertical-align: 0.3em; margin-right: -0.15em;\">a</span>T<span style=\"text-transform: uppercase; margin-left: -0.1667em; vertical-align: -0.5ex; margin-right: -0.125em;\">e</span>X </th> </tr>\n",
    "    \n",
    "<tr> <td>$\\alpha$</td> <td><tt>\\alpha</tt></td><td>$\\mu$</td> <td><tt>\\mu</tt></td> </tr>\n",
    "<tr> <td>$\\beta$</td> <td><tt>\\beta</tt></td><td>$\\nu$</td> <td><tt>\\nu</tt></td> </tr>\n",
    "<tr> <td>$\\gamma$</td> <td><tt>\\gamma</tt></td><td>$\\xi$</td> <td><tt>\\xi</tt></td> </tr>\n",
    "<tr> <td>$\\delta$</td> <td><tt>\\delta</tt></td><td>$\\pi$, $\\varpi$</td> <td><tt>\\pi, \\varphi</tt></td> </tr>\n",
    "<tr> <td>$\\epsilon$, $\\varepsilon$</td> <td><tt>\\epsilon, \\varepsilon</tt></td><td>$\\rho$, $\\varrho$</td> <td><tt>\\rho, \\varrho</tt></td> </tr>\n",
    "<tr> <td>$\\eta$</td> <td><tt>\\eta</tt></td><td>$\\sigma$, $\\varsigma$</td> <td><tt>\\sigma, \\varsigma</tt></td> </tr>\n",
    "<tr> <td>$\\theta$, $\\vartheta$</td> <td><tt>\\theta, \\vartheta</tt></td><td>$\\phi$, $\\varphi$</td> <td><tt>\\phi, \\varphi</tt></td> </tr>\n",
    "<tr> <td>$\\lambda$</td> <td><tt>\\lambda</tt></td><td>$\\omega$</td> <td><tt></tt>\\omega</td> </tr>\n",
    "</table>\n",
    "\n",
    "##### Relation Operators\n",
    "<table style=\"width:20%\">\n",
    "<tr> <th>Symbol</th><th>L<span style=\"text-transform: uppercase; font-size: 70%; margin-left: -0.36em; vertical-align: 0.3em; margin-right: -0.15em;\">a</span>T<span style=\"text-transform: uppercase; margin-left: -0.1667em; vertical-align: -0.5ex; margin-right: -0.125em;\">e</span>X</th> </tr>\n",
    "    \n",
    "<tr> <td>$\\leq$</td> <td><tt>\\leq</tt></td> </tr>\n",
    "<tr> <td>$\\geq$</td> <td><tt>\\geq</tt></td> </tr>\n",
    "<tr> <td>$\\approx$</td> <td><tt>\\approx</tt></td> </tr>\n",
    "<tr> <td>$\\simeq$</td> <td><tt>\\simeq</tt></td> </tr>\n",
    "<tr> <td>$\\sim$</td> <td><tt>\\sim</tt></td> </tr>\n",
    "<tr> <td>$\\in$</td> <td><tt>\\in</tt></td> </tr>\n",
    "<tr> <td>$\\notin$</td> <td><tt>\\notin</tt></td> </tr>\n",
    "</table>\n",
    "\n",
    "##### Other Symbols\n",
    "<table style=\"width:20%\">\n",
    "<tr> <th>Symbol</th><th>L<span style=\"text-transform: uppercase; font-size: 70%; margin-left: -0.36em; vertical-align: 0.3em; margin-right: -0.15em;\">a</span>T<span style=\"text-transform: uppercase; margin-left: -0.1667em; vertical-align: -0.5ex; margin-right: -0.125em;\">e</span>X</th> </tr>\n",
    "    \n",
    "<tr> <td>$\\partial$</td> <td><tt>\\partial</tt></td> </tr>\n",
    "<tr> <td>$\\nabla$</td> <td><tt>\\nabla</tt></td> </tr>\n",
    "<tr> <td>$\\infty$</td> <td><tt>\\infty</tt></td> </tr>\n",
    "<tr> <td>$\\Re$</td> <td><tt></tt>\\Re</td> </tr>\n",
    "<tr> <td>$\\Im$</td> <td><tt>\\Im</tt></td> </tr>\n",
    "<tr> <td>$\\mathbb{R}$</td> <td><tt>\\mathbb{R}</tt></td> </tr>\n",
    "<tr> <td>$\\mathbb{C}$</td> <td><tt>\\mathbb{C}</tt></td> </tr>\n",
    "<tr> <td>$\\mathbb{N}$</td> <td><tt>\\mathbb{N}</tt></td> </tr>\n",
    "\n",
    "</table>"
   ]
  },
  {
   "cell_type": "markdown",
   "metadata": {},
   "source": [
    "#### References:\n",
    "__<a href=\"https://medium.com/analytics-vidhya/writing-math-equations-in-jupyter-notebook-a-naive-introduction-a5ce87b9a214\">Link to Reference [1]</a>__\n",
    "<br>\n",
    "__<a href=\"http://oeis.org/wiki/List_of_LaTeX_mathematical_symbols\">Link to Reference [2]</a>__\n",
    "\n"
   ]
  }
 ],
 "metadata": {
  "kernelspec": {
   "display_name": "Python 3",
   "language": "python",
   "name": "python3"
  },
  "language_info": {
   "codemirror_mode": {
    "name": "ipython",
    "version": 3
   },
   "file_extension": ".py",
   "mimetype": "text/x-python",
   "name": "python",
   "nbconvert_exporter": "python",
   "pygments_lexer": "ipython3",
   "version": "3.7.6"
  }
 },
 "nbformat": 4,
 "nbformat_minor": 4
}
